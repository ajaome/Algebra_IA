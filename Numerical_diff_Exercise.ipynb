{
 "cells": [
  {
   "cell_type": "markdown",
   "id": "b4713286-3de4-46de-a034-66bd0480c30a",
   "metadata": {},
   "source": [
    "# Numerical differentiation. Practical exercise.\n",
    "\n",
    "In this exercise, we will use finite differences to differentiate a black box and solve an optimization problem."
   ]
  },
  {
   "cell_type": "markdown",
   "id": "25f4f29d-d40d-48c9-9530-010920f5dc51",
   "metadata": {},
   "source": [
    "#### Context\n",
    "Laura does not have an analytical formula for engagement. She only has a __black box__ based on data computed by thirds. \n",
    "\n",
    "The black box gives the engagement level based on posting frequency $x$.\n",
    "\n",
    "The goal is to find the optimal posting frequency that __maximizes__ engagement."
   ]
  },
  {
   "cell_type": "markdown",
   "id": "182bc392-84eb-4cfc-8001-e897a55238bc",
   "metadata": {},
   "source": [
    "#### The function of the black box"
   ]
  },
  {
   "cell_type": "code",
   "execution_count": 3,
   "id": "6836f981-27fa-4ac4-b6cb-92892338f1ce",
   "metadata": {
    "scrolled": true
   },
   "outputs": [
    {
     "data": {
      "text/plain": [
       "81.60546875"
      ]
     },
     "execution_count": 3,
     "metadata": {},
     "output_type": "execute_result"
    }
   ],
   "source": [
    "#Import packages\n",
    "import numpy as np\n",
    "import matplotlib.pyplot as plt\n",
    "from data.blackbox import f\n",
    "\n",
    "# Make one prediction on the black box model\n",
    "f(1)"
   ]
  },
  {
   "cell_type": "markdown",
   "id": "e535cf4a-ff20-45aa-b779-c79a17994d3c",
   "metadata": {},
   "source": [
    "#### Finite Differences Scheme"
   ]
  },
  {
   "cell_type": "code",
   "execution_count": 2,
   "id": "51255ccf-9d7a-4d16-8c3e-de91366dea69",
   "metadata": {},
   "outputs": [],
   "source": [
    "def forwardFD(x, fun, h):\n",
    "    return (fun(x+h) - fun(x))/h"
   ]
  },
  {
   "cell_type": "markdown",
   "id": "ea680714-8669-40c5-973f-d24aa58c4d69",
   "metadata": {},
   "source": [
    "#### Numerical method\n",
    "We choose the gradient __ascent__ for the minimization. The update of the parameter  $x$ is done by the expression:\n",
    "\\begin{equation*}\n",
    "x_{i+1} := x_i + \\alpha \\frac{d \\mathcal{L}}{d x}\n",
    "\\end{equation*}\n",
    "where x is the parameter to optimize and $\\alpha$ denotes the learning rate."
   ]
  },
  {
   "cell_type": "code",
   "execution_count": 3,
   "id": "4534dc4d-fecb-4bd5-862f-6abc9564eff9",
   "metadata": {},
   "outputs": [],
   "source": [
    "def GA(theta, dL, lr):\n",
    "    theta_updated = theta + lr*dL\n",
    "    return theta_updated"
   ]
  },
  {
   "cell_type": "markdown",
   "id": "b7f0f962-432c-4d50-afd5-2607ada4e0d8",
   "metadata": {},
   "source": [
    "#### The training:"
   ]
  },
  {
   "cell_type": "code",
   "execution_count": 6,
   "id": "a7f2563e-57a9-4d04-aa3e-f59e7fa4647a",
   "metadata": {},
   "outputs": [],
   "source": [
    "def training (n_epochs, lr, x_0, h):\n",
    "    #we initialize the parameters\n",
    "    x = x_0\n",
    "    \n",
    "    #evaluate the negative of the initial loss\n",
    "    loss_val = -f(x_0)\n",
    "    print(f\"Initial loss: {loss_val}\")\n",
    "    \n",
    "    history =[loss_val]\n",
    "\n",
    "    #training loop\n",
    "    for epoch in range(n_epochs):\n",
    "        #compute the gradients.\n",
    "        dL_dx = forwardFD(x, f, h)\n",
    "        \n",
    "        #apply gradient Ascent\n",
    "        x = GA(x, dL_dx, lr)\n",
    "        \n",
    "        #evaluate the loss\n",
    "        loss_val =-f(x)\n",
    "        \n",
    "        history.append(loss_val)\n",
    "        #uncoment to print the loss each n iterations\n",
    "        if epoch%100 == 0:\n",
    "            print(f\"Iteration {epoch}: loss = {loss_val}, x  = {x}\")\n",
    "   \n",
    "    print(f\"Iteration {epoch}: loss = {loss_val}, x  = {x}\")\n",
    "    print(f\"Final x  = {x};\")\n",
    "    \n",
    "    history_loss = np.array(history)\n",
    "\n",
    "    #We plot the loss history\n",
    "    def plot_loss(history_loss):\n",
    "        x = np.arange(history_loss.shape[0])\n",
    "        plt.plot(x, history_loss, color=\"black\")\n",
    "        # Labels and plot formatting\n",
    "        plt.xlabel(\"Epochs\")\n",
    "        plt.ylabel(\"Loss\")\n",
    "        plt.title(\"Loss evolution\")\n",
    "        plt.grid(True)\n",
    "        # Show the plot\n",
    "        plt.show()\n",
    "    plot_loss(history_loss)\n",
    "    \n",
    "    return x"
   ]
  },
  {
   "cell_type": "markdown",
   "id": "b86efcfe-fafd-4733-be4c-52606ea6b9ad",
   "metadata": {},
   "source": [
    "##### Define training parameters and run the optimization."
   ]
  },
  {
   "cell_type": "code",
   "execution_count": 11,
   "id": "26258d51-9f7d-4fdc-a902-88960074a0e5",
   "metadata": {},
   "outputs": [
    {
     "name": "stdout",
     "output_type": "stream",
     "text": [
      "Initial loss: -121.45096223302596\n",
      "Iteration 0: loss = -121.45201596232769, x  = 49.99897367540353\n",
      "Iteration 100: loss = -121.55812370323422, x  = 49.89598426299488\n",
      "Iteration 200: loss = -121.6657137834551, x  = 49.79227810915661\n",
      "Iteration 300: loss = -121.77482820487587, x  = 49.68784003844194\n",
      "Iteration 400: loss = -121.88551078018281, x  = 49.582654332218915\n",
      "Iteration 500: loss = -121.99780723847043, x  = 49.476704701055034\n",
      "Iteration 600: loss = -122.11176533866208, x  = 49.369974255269966\n",
      "Iteration 700: loss = -122.2274349914469, x  = 49.26244547350622\n",
      "Iteration 800: loss = -122.34486839051362, x  = 49.15410016915089\n",
      "Iteration 900: loss = -122.46412015394299, x  = 49.04491945442816\n",
      "Iteration 1000: loss = -122.58524747671919, x  = 48.93488370196008\n",
      "Iteration 1100: loss = -122.70831029542501, x  = 48.823972503575014\n",
      "Iteration 1200: loss = -122.83337146630855, x  = 48.71216462611869\n",
      "Iteration 1300: loss = -122.96049695804507, x  = 48.59943796399692\n",
      "Iteration 1400: loss = -123.08975606067415, x  = 48.48576948814965\n",
      "Iteration 1500: loss = -123.22122161236874, x  = 48.371135191122576\n",
      "Iteration 1600: loss = -123.35497024589364, x  = 48.25551002786553\n",
      "Iteration 1700: loss = -123.4910826568418, x  = 48.13886785184385\n",
      "Iteration 1800: loss = -123.62964389599878, x  = 48.02118134600122\n",
      "Iteration 1900: loss = -123.77074368848767, x  = 47.902421948057736\n",
      "Iteration 2000: loss = -123.91447678269299, x  = 47.782559769564166\n",
      "Iteration 2100: loss = -124.06094333236202, x  = 47.66156350806276\n",
      "Iteration 2200: loss = -124.21024931574124, x  = 47.53940035162339\n",
      "Iteration 2300: loss = -124.36250699614263, x  = 47.41603587492938\n",
      "Iteration 2400: loss = -124.51783542895117, x  = 47.29143392598141\n",
      "Iteration 2500: loss = -124.67636102081019, x  = 47.16555650236243\n",
      "Iteration 2600: loss = -124.83821814756331, x  = 47.03836361586326\n",
      "Iteration 2700: loss = -125.00354983852077, x  = 46.90981314410246\n",
      "Iteration 2800: loss = -125.17250853578048, x  = 46.779860667579534\n",
      "Iteration 2900: loss = -125.34525693870432, x  = 46.648459290374824\n",
      "Iteration 3000: loss = -125.52196894527202, x  = 46.51555944244471\n",
      "Iteration 3100: loss = -125.70283070396468, x  = 46.381108661147685\n",
      "Iteration 3200: loss = -125.8880417921237, x  = 46.245051349272536\n",
      "Iteration 3300: loss = -126.07781653948626, x  = 46.107328506402304\n",
      "Iteration 3400: loss = -126.27238551890103, x  = 45.96787742993377\n",
      "Iteration 3500: loss = -126.47199723022518, x  = 45.82663138145339\n",
      "Iteration 3600: loss = -126.67692000824124, x  = 45.68351921343513\n",
      "Iteration 3700: loss = -126.88744419133889, x  = 45.53846495033394\n",
      "Iteration 3800: loss = -127.10388459493144, x  = 45.39138731707628\n",
      "Iteration 3900: loss = -127.32658334248109, x  = 45.242199206640805\n",
      "Iteration 4000: loss = -127.55591311802645, x  = 45.09080707682791\n",
      "Iteration 4100: loss = -127.79228091783568, x  = 44.93711026435531\n",
      "Iteration 4200: loss = -128.036132396014, x  = 44.781000201995006\n",
      "Iteration 4300: loss = -128.28795692060413, x  = 44.622359521453795\n",
      "Iteration 4400: loss = -128.54829348429618, x  = 44.46106102093153\n",
      "Iteration 4500: loss = -128.81773764916682, x  = 44.29696647153949\n",
      "Iteration 4600: loss = -129.0969497504092, x  = 44.12992523073134\n",
      "Iteration 4700: loss = -129.3866646432692, x  = 43.959772623180946\n",
      "Iteration 4800: loss = -129.68770335519167, x  = 43.78632803958257\n",
      "Iteration 4900: loss = -130.0009871082954, x  = 43.60939269087984\n",
      "Iteration 5000: loss = -130.32755431540394, x  = 43.428746938377294\n",
      "Iteration 5100: loss = -130.6685813399195, x  = 43.24414709753003\n",
      "Iteration 5200: loss = -131.02540806626547, x  = 43.055321582757585\n",
      "Iteration 5300: loss = -131.399569683795, x  = 42.86196621920792\n",
      "Iteration 5400: loss = -131.79283658885382, x  = 42.66373849029372\n",
      "Iteration 5500: loss = -132.20726502768278, x  = 42.46025040995159\n",
      "Iteration 5600: loss = -132.64526214785369, x  = 42.25105959505972\n",
      "Iteration 5700: loss = -133.10967067566025, x  = 42.03565794927276\n",
      "Iteration 5800: loss = -133.60388078328916, x  = 41.81345712743012\n",
      "Iteration 5900: loss = -134.13198034522867, x  = 41.58376958489546\n",
      "Iteration 6000: loss = -134.69896056427336, x  = 41.34578345305743\n",
      "Iteration 6100: loss = -135.3110034118543, x  = 41.09852858892732\n",
      "Iteration 6200: loss = -135.97589334582528, x  = 40.840829685097454\n",
      "Iteration 6300: loss = -136.70362393487792, x  = 40.57123984797302\n",
      "Iteration 6400: loss = -137.5073217910801, x  = 40.287943672681735\n",
      "Iteration 6500: loss = -138.40471047900851, x  = 39.98861071841791\n",
      "Iteration 6600: loss = -139.42054378865686, x  = 39.670164313340756\n",
      "Iteration 6700: loss = -140.59089779170145, x  = 39.3283969010022\n",
      "Iteration 6800: loss = -141.97133784926723, x  = 38.95728537158588\n",
      "Iteration 6900: loss = -143.65410263311648, x  = 38.54765860307489\n",
      "Iteration 7000: loss = -145.8097307496978, x  = 38.08426070163964\n",
      "Iteration 7100: loss = -148.81212874517735, x  = 37.53793580881311\n",
      "Iteration 7200: loss = -227.81835243357838, x  = 35.78776593559962\n",
      "Iteration 7300: loss = -352.60991122639376, x  = 32.368672767298854\n",
      "Iteration 7400: loss = -377.88381966351255, x  = 30.800799839962526\n",
      "Iteration 7500: loss = -385.9588420999723, x  = 29.909010852765956\n",
      "Iteration 7600: loss = -389.15031518510233, x  = 29.34662814609097\n",
      "Iteration 7700: loss = -390.5734526712852, x  = 28.97032702731226\n",
      "Iteration 7800: loss = -391.2578181121841, x  = 28.708949053235205\n",
      "Iteration 7900: loss = -391.6037816148, x  = 28.522811355512715\n",
      "Iteration 8000: loss = -391.7847604750857, x  = 28.38794602740409\n",
      "Iteration 8100: loss = -391.8817170020032, x  = 28.289024118899913\n",
      "Iteration 8200: loss = -391.9345326436123, x  = 28.215820197416782\n",
      "Iteration 8300: loss = -391.9636349830496, x  = 28.16129536877202\n",
      "Iteration 8400: loss = -391.97979176423763, x  = 28.120488202626916\n",
      "Iteration 8500: loss = -391.9888002383764, x  = 28.089838411435768\n",
      "Iteration 8600: loss = -391.99383054459526, x  = 28.0667562349601\n",
      "Iteration 8700: loss = -391.9966359612529, x  = 28.04933835761998\n",
      "Iteration 8800: loss = -391.99819397288104, x  = 28.036174961742653\n",
      "Iteration 8900: loss = -391.9990524895838, x  = 28.026215539680056\n",
      "Iteration 9000: loss = -391.9995196078939, x  = 28.01867377197243\n",
      "Iteration 9100: loss = -391.9997687800638, x  = 28.01295906232492\n",
      "Iteration 9200: loss = -391.9998975831918, x  = 28.008626660862255\n",
      "Iteration 9300: loss = -391.9999607551843, x  = 28.00534098303855\n",
      "Iteration 9400: loss = -391.9999888405899, x  = 28.002848433048698\n",
      "Iteration 9500: loss = -391.99999874018073, x  = 28.000957153341414\n",
      "Iteration 9600: loss = -391.99999968567664, x  = 27.99952186821858\n",
      "Iteration 9700: loss = -391.9999966220955, x  = 27.998432501454324\n",
      "Iteration 9800: loss = -391.9999921188858, x  = 27.997605605872234\n",
      "Iteration 9900: loss = -391.99998744586225, x  = 27.996977897320033\n",
      "Iteration 9999: loss = -391.99998321527613, x  = 27.996505513524305\n",
      "Final x  = 27.996505513524305;\n"
     ]
    },
    {
     "data": {
      "image/png": "[encoded data removed]",
      "text/plain": [
       "<Figure size 640x480 with 1 Axes>"
      ]
     },
     "metadata": {},
     "output_type": "display_data"
    }
   ],
   "source": [
    "x_0 = 50.\n",
    "h = 0.01\n",
    "\n",
    "number_epochs = 10000\n",
    "lr = 0.001\n",
    "\n",
    "x = training(number_epochs, lr, x_0, h=h)"
   ]
  },
  {
   "cell_type": "code",
   "execution_count": null,
   "id": "763998dc-b633-48e8-882c-2ae2206fd0e2",
   "metadata": {},
   "outputs": [],
   "source": []
  }
 ],
 "metadata": {
  "kernelspec": {
   "display_name": "Python 3 (ipykernel)",
   "language": "python",
   "name": "python3"
  },
  "language_info": {
   "codemirror_mode": {
    "name": "ipython",
    "version": 3
   },
   "file_extension": ".py",
   "mimetype": "text/x-python",
   "name": "python",
   "nbconvert_exporter": "python",
   "pygments_lexer": "ipython3",
   "version": "3.12.4"
  }
 },
 "nbformat": 4,
 "nbformat_minor": 5
}
